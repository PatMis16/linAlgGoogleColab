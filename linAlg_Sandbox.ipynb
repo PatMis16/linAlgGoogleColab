{
  "cells": [
    {
      "cell_type": "markdown",
      "metadata": {
        "colab_type": "text",
        "id": "view-in-github"
      },
      "source": [
        "<a href=\"https://colab.research.google.com/github/PatMis16/linAlgGoogleColab/blob/main/linAlg_Sandbox.ipynb\" target=\"_parent\"><img src=\"https://colab.research.google.com/assets/colab-badge.svg\" alt=\"Open In Colab\"/></a>"
      ]
    },
    {
      "cell_type": "code",
      "execution_count": 1,
      "metadata": {
        "id": "RplFo31YDbCV"
      },
      "outputs": [
        {
          "name": "stdout",
          "output_type": "stream",
          "text": [
            "-3\n",
            "[[ 0.70710678  0.70710678]\n",
            " [ 0.70710678 -0.70710678]]\n",
            "[[ 5.00000000e-01 -1.11855716e-17]\n",
            " [-1.11855716e-17  5.00000000e-01]]\n",
            "[ 5.65685425 -1.41421356]\n"
          ]
        },
        {
          "ename": "NameError",
          "evalue": "name 'sqrt' is not defined",
          "output_type": "error",
          "traceback": [
            "\u001b[0;31m---------------------------------------------------------------------------\u001b[0m",
            "\u001b[0;31mNameError\u001b[0m                                 Traceback (most recent call last)",
            "Cell \u001b[0;32mIn [1], line 23\u001b[0m\n\u001b[1;32m     21\u001b[0m Cta \u001b[39m=\u001b[39m Ct \u001b[39m@\u001b[39m a\n\u001b[1;32m     22\u001b[0m \u001b[39mprint\u001b[39m(Cta)\n\u001b[0;32m---> 23\u001b[0m c1_a \u001b[39m=\u001b[39m (\u001b[39m4\u001b[39m \u001b[39m*\u001b[39m sqrt(\u001b[39m2\u001b[39m)) \u001b[39m*\u001b[39m c1\n\u001b[1;32m     24\u001b[0m c2_a \u001b[39m=\u001b[39m () \u001b[39m*\u001b[39m c2\n\u001b[1;32m     25\u001b[0m \u001b[39mprint\u001b[39m(c1_a \u001b[39m-\u001b[39m c2_a)\n",
            "\u001b[0;31mNameError\u001b[0m: name 'sqrt' is not defined"
          ]
        }
      ],
      "source": [
        "import numpy as np\n",
        "import scipy.fftpack as fft\n",
        "\n",
        "a = np.array([1,2,3])\n",
        "b = np.array([2,-4,1])\n",
        "\n",
        "\n",
        "print(a @ b)\n",
        "\n",
        "c1 = np.array([1,1])\n",
        "c2 = np.array([1,-1])\n",
        "C = (1/np.sqrt(2)) * np.array([[1,1],[1,-1]])\n",
        "\n",
        "Ct = np.transpose(C)\n",
        "\n",
        "print(Ct)\n",
        "\n",
        "print (1/2 * (C @ Ct))\n",
        "\n",
        "\n",
        "\n",
        "\n"
      ]
    }
  ],
  "metadata": {
    "colab": {
      "authorship_tag": "ABX9TyPAmLlrwGsoohyY+xsQzeMo",
      "include_colab_link": true,
      "provenance": []
    },
    "kernelspec": {
      "display_name": "Python 3.10.6 ('.venv': venv)",
      "language": "python",
      "name": "python3"
    },
    "language_info": {
      "codemirror_mode": {
        "name": "ipython",
        "version": 3
      },
      "file_extension": ".py",
      "mimetype": "text/x-python",
      "name": "python",
      "nbconvert_exporter": "python",
      "pygments_lexer": "ipython3",
      "version": "3.10.6"
    },
    "vscode": {
      "interpreter": {
        "hash": "4df1b6a76f181d946d9f21b9bc17916943543fd2ea538bba1b60436507cc8f97"
      }
    }
  },
  "nbformat": 4,
  "nbformat_minor": 0
}
