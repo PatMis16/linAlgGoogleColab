{
 "cells": [
  {
   "cell_type": "markdown",
   "metadata": {},
   "source": [
    "# LinAlg - Block 4\n",
    "\n"
   ]
  },
  {
   "cell_type": "code",
   "execution_count": 25,
   "metadata": {},
   "outputs": [
    {
     "name": "stdout",
     "output_type": "stream",
     "text": [
      "4.58257569495584\n",
      "33\n",
      "[ -4 -16  16]\n",
      "39.061082366446406\n",
      "2.0\n",
      "-1.0\n",
      "1.0\n",
      "2\n",
      "array([0.89442719, 0.        , 0.4472136 ])\n",
      "array([-0.50685492, -0.64252025, -0.57468758])\n"
     ]
    }
   ],
   "source": [
    "import numpy as np\n",
    "import pprint\n",
    "import numpy.linalg as la\n",
    "from math import pi, cos, sqrt\n",
    "\n",
    "a = np.array([4,1,2])\n",
    "b = np.array([4,5,6])\n",
    "\n",
    "print(la.norm(a))\n",
    "la.norm(b)\n",
    "\n",
    "print(np.dot(a, b))\n",
    "print(np.cross(a, b))\n",
    "\n",
    "alpha = cos(np.dot(a, b)/(la.norm(a)*la.norm(b)))*(180/pi)\n",
    "\n",
    "print(alpha)\n",
    "\n",
    "# Aufgabe 4 Moodle Block 4\n",
    "u1 = np.array([3,1,1])\n",
    "u2 = np.array([-1,2,1])\n",
    "u3 = np.array([-1,-4,7])\n",
    "x = np.array([6,-4,8])\n",
    "\n",
    "l1 = np.vdot(x, u1)/np.vdot(u1,u1)\n",
    "l2 = np.vdot(x, u2)/np.vdot(u2,u2)\n",
    "l3 = np.vdot(x, u3)/np.vdot(u3,u3)\n",
    "print(l1)\n",
    "print(l2)\n",
    "print(l3)\n",
    "\n",
    "u1 = np.array([2,1,0])\n",
    "a2 = np.array([1,0,-1])\n",
    "print(np.vdot(u1, a2)) \n",
    "\n",
    "a1 = np.array([2,0,1])\n",
    "a2 = np.array([1,-1,0])\n",
    "a3 = np.array([0,2,-1])\n",
    "\n",
    "u1 = a1/la.norm(a1)\n",
    "pprint.pprint(u1)\n",
    "u2 = (a2 - np.dot((1/sqrt(5)*a1), a2)*a1)/la.norm(a2 - np.dot((1/sqrt(5)*a1), a2)*a1)\n",
    "pprint.pprint(u2)\n",
    "#print(np.dot((1/sqrt(5)*a1), a2))\n",
    "\n",
    "\n"
   ]
  }
 ],
 "metadata": {
  "kernelspec": {
   "display_name": "Python 3.10.6 ('.venv': venv)",
   "language": "python",
   "name": "python3"
  },
  "language_info": {
   "codemirror_mode": {
    "name": "ipython",
    "version": 3
   },
   "file_extension": ".py",
   "mimetype": "text/x-python",
   "name": "python",
   "nbconvert_exporter": "python",
   "pygments_lexer": "ipython3",
   "version": "3.10.6"
  },
  "orig_nbformat": 4,
  "vscode": {
   "interpreter": {
    "hash": "4df1b6a76f181d946d9f21b9bc17916943543fd2ea538bba1b60436507cc8f97"
   }
  }
 },
 "nbformat": 4,
 "nbformat_minor": 2
}
